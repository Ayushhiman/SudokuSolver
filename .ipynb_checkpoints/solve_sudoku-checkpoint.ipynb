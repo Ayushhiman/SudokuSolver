{
 "cells": [
  {
   "cell_type": "code",
   "execution_count": 3,
   "metadata": {},
   "outputs": [],
   "source": [
    "def find_empty_location(arr,l): \n",
    "\tfor row in range(9): \n",
    "\t\tfor col in range(9): \n",
    "\t\t\tif(arr[row][col]==0): \n",
    "\t\t\t\tl[0]=row \n",
    "\t\t\t\tl[1]=col \n",
    "\t\t\t\treturn True\n",
    "\treturn False"
   ]
  },
  {
   "cell_type": "code",
   "execution_count": 4,
   "metadata": {},
   "outputs": [],
   "source": [
    "def used_in_row(arr,row,num): \n",
    "\tfor i in range(9): \n",
    "\t\tif(arr[row][i] == num): \n",
    "\t\t\treturn True\n",
    "\treturn False"
   ]
  },
  {
   "cell_type": "code",
   "execution_count": 5,
   "metadata": {},
   "outputs": [],
   "source": [
    "def used_in_col(arr,col,num): \n",
    "\tfor i in range(9): \n",
    "\t\tif(arr[i][col] == num): \n",
    "\t\t\treturn True\n",
    "\treturn False"
   ]
  },
  {
   "cell_type": "code",
   "execution_count": 6,
   "metadata": {},
   "outputs": [],
   "source": [
    "def used_in_box(arr,row,col,num): \n",
    "\tfor i in range(3): \n",
    "\t\tfor j in range(3): \n",
    "\t\t\tif(arr[i+row][j+col] == num): \n",
    "\t\t\t\treturn True\n",
    "\treturn False"
   ]
  },
  {
   "cell_type": "code",
   "execution_count": 7,
   "metadata": {},
   "outputs": [],
   "source": [
    "def check_location_is_safe(arr,row,col,num): \n",
    "\t\n",
    "\t# Check if 'num' is not already placed in current row, \n",
    "\t# current column and current 3x3 box \n",
    "\treturn not used_in_row(arr,row,num) and not used_in_col(arr,col,num) and not used_in_box(arr,row - row%3,col - col%3,num) "
   ]
  },
  {
   "cell_type": "code",
   "execution_count": 8,
   "metadata": {},
   "outputs": [],
   "source": [
    "def solve_sudoku(arr): \n",
    "\t\n",
    "\t# 'l' is a list variable that keeps the record of row and col in find_empty_location Function\t \n",
    "\tl=[0,0] \n",
    "\t\n",
    "\t# If there is no unassigned location, we are done\t \n",
    "\tif(not find_empty_location(arr,l)): \n",
    "\t\treturn True\n",
    "\t\n",
    "\t# Assigning list values to row and col that we got from the above Function \n",
    "\trow=l[0] \n",
    "\tcol=l[1] \n",
    "\t\n",
    "\t# consider digits 1 to 9 \n",
    "\tfor num in range(1,10): \n",
    "\t\t\n",
    "\t\t# if looks promising \n",
    "\t\tif(check_location_is_safe(arr,row,col,num)): \n",
    "\t\t\t\n",
    "\t\t\t# make tentative assignment \n",
    "\t\t\tarr[row][col]=num \n",
    "\n",
    "\t\t\t# return, if sucess, ya! \n",
    "\t\t\tif(solve_sudoku(arr)): \n",
    "\t\t\t\treturn True\n",
    "\n",
    "\t\t\t# failure, unmake & try again \n",
    "\t\t\tarr[row][col] = 0\n",
    "\t\t\t\n",
    "\t# this triggers backtracking\t\t \n",
    "\treturn False"
   ]
  },
  {
   "cell_type": "code",
   "execution_count": null,
   "metadata": {},
   "outputs": [],
   "source": []
  }
 ],
 "metadata": {
  "kernelspec": {
   "display_name": "Python 3",
   "language": "python",
   "name": "python3"
  },
  "language_info": {
   "codemirror_mode": {
    "name": "ipython",
    "version": 3
   },
   "file_extension": ".py",
   "mimetype": "text/x-python",
   "name": "python",
   "nbconvert_exporter": "python",
   "pygments_lexer": "ipython3",
   "version": "3.7.6"
  }
 },
 "nbformat": 4,
 "nbformat_minor": 4
}
